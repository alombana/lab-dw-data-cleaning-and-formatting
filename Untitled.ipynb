{
 "cells": [
  {
   "cell_type": "code",
   "execution_count": null,
   "id": "7aaaa7ba",
   "metadata": {},
   "outputs": [],
   "source": [
    "def cleaning_(dataframe):\n",
    "    dataframe.rename(columns=lambda x: x.replace(\" \",\"_\").replace(\"st\",\"state\").replace(\"ST\",\"state\").lower(), inplace=True)"
   ]
  },
  {
   "cell_type": "code",
   "execution_count": 3,
   "id": "87c56777",
   "metadata": {},
   "outputs": [],
   "source": [
    "import pandas as pd\n",
    "a='697953.59%'"
   ]
  },
  {
   "cell_type": "code",
   "execution_count": 33,
   "id": "9cd6966d",
   "metadata": {},
   "outputs": [
    {
     "data": {
      "text/plain": [
       "'697953.59 '"
      ]
     },
     "execution_count": 33,
     "metadata": {},
     "output_type": "execute_result"
    }
   ],
   "source": [
    "a.replace(\"%\",\" \")"
   ]
  }
 ],
 "metadata": {
  "kernelspec": {
   "display_name": "Python 3 (ipykernel)",
   "language": "python",
   "name": "python3"
  },
  "language_info": {
   "codemirror_mode": {
    "name": "ipython",
    "version": 3
   },
   "file_extension": ".py",
   "mimetype": "text/x-python",
   "name": "python",
   "nbconvert_exporter": "python",
   "pygments_lexer": "ipython3",
   "version": "3.11.5"
  }
 },
 "nbformat": 4,
 "nbformat_minor": 5
}
